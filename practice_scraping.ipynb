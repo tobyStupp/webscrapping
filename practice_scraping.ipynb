{
 "cells": [
  {
   "cell_type": "markdown",
   "metadata": {},
   "source": [
    "Purpose of this code is to build a PANDAS Dataframe containing different quotes and the authors of the quotes.\n",
    "I will be using the BeautifulSoup module to identify the different parts and wether or not they contain the key words.  "
   ]
  },
  {
   "cell_type": "code",
   "execution_count": null,
   "metadata": {},
   "outputs": [],
   "source": [
    "#import the different libraries\n",
    "from bs4 import BeautifulSoup\n",
    "import pandas as pd\n",
    "import requests\n"
   ]
  },
  {
   "cell_type": "code",
   "execution_count": null,
   "metadata": {},
   "outputs": [],
   "source": [
    "class Columns:\n",
    "    def __init__ (self, others):\n",
    "        self.column =['quote','author'] + others\n",
    "    def exists (self, col):\n",
    "        return col in self.column[2:]\n",
    "class Quote:\n",
    "    def __init__ (self, quote,author, others):\n",
    "        self.data = [quote,author] + others\n",
    "    \n",
    "    def get(self):\n",
    "        return self.data\n",
    "\n",
    "    "
   ]
  },
  {
   "cell_type": "code",
   "execution_count": null,
   "metadata": {},
   "outputs": [],
   "source": [
    "#reading the HTML code from the website and saving it in a text file to allow access to the file \n",
    "file_name = 'https://quotes.toscrape.com'\n",
    "req=requests.get(file_name)\n",
    "if req.status_code==200:\n",
    "    page = req.content\n",
    "    with open ('page.html', 'wb') as f:\n",
    "        f.write(page)\n"
   ]
  },
  {
   "cell_type": "code",
   "execution_count": null,
   "metadata": {},
   "outputs": [],
   "source": [
    "def read_page(file_name):\n",
    "    req=requests.get(file_name)\n",
    "    page=None\n",
    "    if req.status_code==200:\n",
    "        page = req.content\n",
    "    return page\n"
   ]
  },
  {
   "cell_type": "code",
   "execution_count": 36,
   "metadata": {},
   "outputs": [],
   "source": [
    "#prepare the soup\n",
    "def get_details (content, tag):\n",
    "    soup = BeautifulSoup (content,'html.parser')\n",
    "    details = soup.find ('div', attrs={'class':tag})\n",
    "    if details:\n",
    "        details.prettify()\n",
    "        print (type(details))\n",
    "        categories = []\n",
    "        anc = details.findAll('a')\n",
    "        for a in anc:\n",
    "            categories.append (a.text)\n",
    "        '''\n",
    "        anchors = details.findall ('a')\n",
    "        if anchors:\n",
    "            for a in anchors:\n",
    "                print (a.text)\n",
    "        '''\n",
    "        return categories\n",
    "    \n"
   ]
  },
  {
   "cell_type": "code",
   "execution_count": 37,
   "metadata": {},
   "outputs": [
    {
     "name": "stdout",
     "output_type": "stream",
     "text": [
      "<class 'bs4.element.Tag'>\n",
      "['love', 'inspirational', 'life', 'humor', 'books', 'reading', 'friendship', 'friends', 'truth', 'simile']\n"
     ]
    }
   ],
   "source": [
    "txt =''\n",
    "with open ('page.html','rb') as f:\n",
    "    txt = f.read()\n",
    "print(get_details(txt, 'col-md-4 tags-box'))"
   ]
  },
  {
   "cell_type": "code",
   "execution_count": null,
   "metadata": {},
   "outputs": [],
   "source": [
    "#prepares a list and returns it\n",
    "#the function returns another parameter as to wether there is an additional page\n"
   ]
  }
 ],
 "metadata": {
  "kernelspec": {
   "display_name": "Python 3.8.1 32-bit",
   "language": "python",
   "name": "python3"
  },
  "language_info": {
   "codemirror_mode": {
    "name": "ipython",
    "version": 3
   },
   "file_extension": ".py",
   "mimetype": "text/x-python",
   "name": "python",
   "nbconvert_exporter": "python",
   "pygments_lexer": "ipython3",
   "version": "3.8.1"
  },
  "orig_nbformat": 4,
  "vscode": {
   "interpreter": {
    "hash": "058515c58213c8fc5c11f089eb306f5516a56781d7386d0b5475de925c063532"
   }
  }
 },
 "nbformat": 4,
 "nbformat_minor": 2
}
